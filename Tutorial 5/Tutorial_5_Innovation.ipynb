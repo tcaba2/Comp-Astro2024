{
  "nbformat": 4,
  "nbformat_minor": 0,
  "metadata": {
    "colab": {
      "provenance": [],
      "authorship_tag": "ABX9TyMNJxUq69ZYwbeVKI1nH5AG",
      "include_colab_link": true
    },
    "kernelspec": {
      "name": "python3",
      "display_name": "Python 3"
    },
    "language_info": {
      "name": "python"
    }
  },
  "cells": [
    {
      "cell_type": "markdown",
      "metadata": {
        "id": "view-in-github",
        "colab_type": "text"
      },
      "source": [
        "<a href=\"https://colab.research.google.com/github/tcaba2/Comp-Astro2024/blob/main/Tutorial%205/Tutorial_5_Innovation.ipynb\" target=\"_parent\"><img src=\"https://colab.research.google.com/assets/colab-badge.svg\" alt=\"Open In Colab\"/></a>"
      ]
    },
    {
      "cell_type": "code",
      "execution_count": null,
      "metadata": {
        "id": "dwsmzbyK1y6M"
      },
      "outputs": [],
      "source": [
        "import pandas as pd\n",
        "import torch\n",
        "import torch.nn as nn\n",
        "import math\n",
        "import numpy as np\n",
        "from sklearn.preprocessing import MinMaxScaler\n",
        "from sklearn.model_selection import train_test_split\n",
        "from sklearn.metrics import confusion_matrix\n",
        "from sklearn import metrics\n",
        "import matplotlib.pyplot as plt\n",
        "import seaborn as sns"
      ]
    },
    {
      "cell_type": "code",
      "source": [
        "#Implementing the multi-head attention mechanism\n",
        "class MultiHeadAttention(nn.Module):\n",
        "    def __init__(self, d_model, num_heads):\n",
        "        super(MultiHeadAttention, self).__init__()\n",
        "        assert d_model % num_heads == 0, \"d_model must be divisible by num_heads\"\n",
        "\n",
        "        self.d_model = d_model #The dimensionality of the model (embedding size)\n",
        "        self.num_heads = num_heads #The number of attention heads.\n",
        "        self.d_k = d_model // num_heads #Calculates the dimensionality of each head\n",
        "\n",
        "        #Linear transformation layers to project the input queries, keys, values, and output of each attention head to the desired dimension.\n",
        "\n",
        "        self.W_q = nn.Linear(d_model, d_model)\n",
        "        self.W_k = nn.Linear(d_model, d_model)\n",
        "        self.W_v = nn.Linear(d_model, d_model)\n",
        "        self.W_o = nn.Linear(d_model, d_model)\n",
        "\n",
        "    def scaled_dot_product_attention(self, Q, K, V, mask=None):\n",
        "\n",
        "     # Computes attention scores by performing matrix multiplication between queries (Q) and keys (K), scaled by the square root of the dimension of keys (d_k).\n",
        "     #Applies the mask (if provided) to the attention scores to mask out padded values.\n",
        "     #Computes attention probabilities using softmax.\n",
        "     #Multiplies the attention probabilities with values (V) to get the output.\n",
        "        attn_scores = torch.matmul(Q, K.transpose(-2, -1)) / math.sqrt(self.d_k)\n",
        "        if mask is not None:\n",
        "            attn_scores = attn_scores.masked_fill(mask == 0, -1e9)\n",
        "        attn_probs = torch.softmax(attn_scores, dim=-1)\n",
        "        output = torch.matmul(attn_probs, V)\n",
        "        return output\n",
        "\n",
        "\n",
        "\n",
        "    def split_heads(self, x):\n",
        "\n",
        "      #Reshapes the input tensor x into a 4D tensor with dimensions [batch_size, seq_length, num_heads, d_k].\n",
        "      #Transposes the dimensions to move the num_heads dimension to the correct position.\n",
        "        batch_size, seq_length, d_model = x.size()\n",
        "        return x.view(batch_size, seq_length, self.num_heads, self.d_k).transpose(1, 2)\n",
        "\n",
        "    def combine_heads(self, x):\n",
        "\n",
        "      #Transposes the dimensions of the input tensor to move the num_heads dimension to the correct position.\n",
        "      #Reshapes the tensor to combine the heads into a single tensor.\n",
        "        batch_size, _, seq_length, d_k = x.size()\n",
        "        return x.transpose(1, 2).contiguous().view(batch_size, seq_length, self.d_model)\n",
        "\n",
        "    def forward(self, Q, K, V, mask=None):\n",
        "      #Projects the input queries, keys, and values using linear transformation layers (self.W_q, self.W_k, self.W_v).\n",
        "      #Splits the projected tensors into multiple heads.\n",
        "      #Applies scaled dot-product attention to compute the output of each head.\n",
        "      #Combines the outputs of all heads and projects them back to the original dimensionality using the output linear transformation layer (self.W_o).\n",
        "      #Returns: The output tensor of the multi-head attention layer.\n",
        "        Q = self.split_heads(self.W_q(Q))\n",
        "        K = self.split_heads(self.W_k(K))\n",
        "        V = self.split_heads(self.W_v(V))\n",
        "\n",
        "        attn_output = self.scaled_dot_product_attention(Q, K, V, mask)\n",
        "        output = self.W_o(self.combine_heads(attn_output))\n",
        "        return output"
      ],
      "metadata": {
        "id": "08-wRc-Y2IZs"
      },
      "execution_count": null,
      "outputs": []
    },
    {
      "cell_type": "code",
      "source": [
        "class PositionWiseFeedForward(nn.Module):\n",
        "    def __init__(self, d_model, d_ff):\n",
        "        super(PositionWiseFeedForward, self).__init__()\n",
        "        self.fc1 = nn.Linear(d_model, d_ff)\n",
        "        self.fc2 = nn.Linear(d_ff, d_model)\n",
        "        self.relu = nn.ReLU()\n",
        "\n",
        "    def forward(self, x):\n",
        "        return self.fc2(self.relu(self.fc1(x)))"
      ],
      "metadata": {
        "id": "7dEB41zp3rha"
      },
      "execution_count": null,
      "outputs": []
    },
    {
      "cell_type": "code",
      "source": [
        "class PositionalEncoding(nn.Module):\n",
        "    def __init__(self, d_model, max_seq_length):\n",
        "        super(PositionalEncoding, self).__init__()\n",
        "\n",
        "        pe = torch.zeros(max_seq_length, d_model)\n",
        "        position = torch.arange(0, max_seq_length, dtype=torch.float).unsqueeze(1)\n",
        "        div_term = torch.exp(torch.arange(0, d_model, 2).float() * -(math.log(10000.0) / d_model))\n",
        "\n",
        "        pe[:, 0::2] = torch.sin(position * div_term)\n",
        "        pe[:, 1::2] = torch.cos(position * div_term)\n",
        "        self.register_buffer('pe', pe.unsqueeze(0))\n",
        "\n",
        "    def forward(self, x):\n",
        "        return x + self.pe[:, :x.size(1)]"
      ],
      "metadata": {
        "id": "wzkmLi3J5L6H"
      },
      "execution_count": null,
      "outputs": []
    },
    {
      "cell_type": "code",
      "source": [
        "class EncoderLayer(nn.Module):\n",
        "    def __init__(self, d_model, num_heads, d_ff, dropout):\n",
        "        super(EncoderLayer, self).__init__()\n",
        "        self.self_attn = MultiHeadAttention(d_model, num_heads)\n",
        "        self.feed_forward = PositionWiseFeedForward(d_model, d_ff)\n",
        "        self.norm1 = nn.LayerNorm(d_model)\n",
        "        self.norm2 = nn.LayerNorm(d_model)\n",
        "        self.dropout = nn.Dropout(dropout)\n",
        "\n",
        "    def forward(self, x, mask):\n",
        "        attn_output = self.self_attn(x, x, x, mask)\n",
        "        x = self.norm1(x + self.dropout(attn_output))\n",
        "        ff_output = self.feed_forward(x)\n",
        "        x = self.norm2(x + self.dropout(ff_output))\n",
        "        return x"
      ],
      "metadata": {
        "id": "sDgDmTuq5wp-"
      },
      "execution_count": null,
      "outputs": []
    },
    {
      "cell_type": "code",
      "source": [
        "class DecoderLayer(nn.Module):\n",
        "    def __init__(self, d_model, num_heads, d_ff, dropout):\n",
        "        super(DecoderLayer, self).__init__()\n",
        "        self.self_attn = MultiHeadAttention(d_model, num_heads)\n",
        "        self.cross_attn = MultiHeadAttention(d_model, num_heads)\n",
        "        self.feed_forward = PositionWiseFeedForward(d_model, d_ff)\n",
        "        self.norm1 = nn.LayerNorm(d_model)\n",
        "        self.norm2 = nn.LayerNorm(d_model)\n",
        "        self.norm3 = nn.LayerNorm(d_model)\n",
        "        self.dropout = nn.Dropout(dropout)\n",
        "\n",
        "    def forward(self, x, enc_output, src_mask, tgt_mask):\n",
        "        attn_output = self.self_attn(x, x, x, tgt_mask)\n",
        "        x = self.norm1(x + self.dropout(attn_output))\n",
        "        attn_output = self.cross_attn(x, enc_output, enc_output, src_mask)\n",
        "        x = self.norm2(x + self.dropout(attn_output))\n",
        "        ff_output = self.feed_forward(x)\n",
        "        x = self.norm3(x + self.dropout(ff_output))\n",
        "        return x"
      ],
      "metadata": {
        "id": "Icx-7FKM66Xr"
      },
      "execution_count": null,
      "outputs": []
    },
    {
      "cell_type": "code",
      "source": [
        "class Transformer(nn.Module):\n",
        "    def __init__(self, src_vocab_size, tgt_vocab_size, d_model, num_heads, num_layers, d_ff, max_seq_length, dropout):\n",
        "        super(Transformer, self).__init__()\n",
        "        self.encoder_embedding = nn.Embedding(src_vocab_size, d_model)\n",
        "        self.decoder_embedding = nn.Embedding(tgt_vocab_size, d_model)\n",
        "        self.positional_encoding = PositionalEncoding(d_model, max_seq_length)\n",
        "\n",
        "        self.encoder_layers = nn.ModuleList(\n",
        "            [EncoderLayer(d_model, num_heads, d_ff, dropout) for _ in range(num_layers)])\n",
        "        self.decoder_layers = nn.ModuleList(\n",
        "            [DecoderLayer(d_model, num_heads, d_ff, dropout) for _ in range(num_layers)])\n",
        "\n",
        "        self.fc = nn.Linear(d_model, tgt_vocab_size)\n",
        "        self.dropout = nn.Dropout(dropout)\n",
        "\n",
        "    def generate_mask(self, src, tgt):\n",
        "        src_mask = (src != 0).unsqueeze(1).unsqueeze(2)\n",
        "        tgt_mask = (tgt != 0).unsqueeze(1).unsqueeze(2)\n",
        "        seq_length = tgt.size(-1)\n",
        "        nopeak_mask = (1 - torch.triu(torch.ones(1, 1, seq_length), diagonal=1)).bool()\n",
        "        tgt_mask = tgt_mask & nopeak_mask\n",
        "        return src_mask, tgt_mask\n",
        "\n",
        "    def forward(self, src, tgt):\n",
        "        src_mask, tgt_mask = self.generate_mask(src, tgt)\n",
        "        src_embedded = self.dropout(self.positional_encoding(self.encoder_embedding(src)))\n",
        "        tgt_embedded = self.dropout(self.positional_encoding(self.decoder_embedding(tgt)))\n",
        "        enc_output = src_embedded\n",
        "        for enc_layer in self.encoder_layers:\n",
        "            enc_output = enc_layer(enc_output, src_mask)\n",
        "\n",
        "        dec_output = tgt_embedded\n",
        "        for dec_layer in self.decoder_layers:\n",
        "            dec_output = dec_layer(dec_output, enc_output, src_mask, tgt_mask)\n",
        "\n",
        "        output = self.fc(dec_output)\n",
        "        return output"
      ],
      "metadata": {
        "id": "cVqQ9bHo7ytg"
      },
      "execution_count": null,
      "outputs": []
    },
    {
      "cell_type": "code",
      "source": [
        "df = pd.read_csv('a_catalog.csv')\n",
        "pd.set_option('display.max_columns', None)  # Display all columns\n",
        "pd.set_option('display.expand_frame_repr', False)\n",
        "\n",
        "df.drop('name_s', axis=1, inplace=True)\n",
        "df.drop('id', axis=1, inplace=True)\n",
        "df.drop('nuniverse', axis=1, inplace=True)\n",
        "\n",
        "scaler_number = 20000\n",
        "scaler = MinMaxScaler(feature_range=(0, scaler_number))\n",
        "columns_to_scale = [col for col in df.columns if col != 'stype']\n",
        "df[columns_to_scale] = scaler.fit_transform(df[columns_to_scale])"
      ],
      "metadata": {
        "id": "zAi_S3Yc8MB_"
      },
      "execution_count": null,
      "outputs": []
    },
    {
      "cell_type": "code",
      "source": [
        "data = pd.get_dummies(df, columns=['stype']).astype(int)\n",
        "data.reset_index(drop=True, inplace=True)"
      ],
      "metadata": {
        "id": "gDNOK2T-8ToL"
      },
      "execution_count": null,
      "outputs": []
    },
    {
      "cell_type": "code",
      "source": [
        "min_max_df = pd.DataFrame({\n",
        "    'Min': data.min(),\n",
        "    'Max': data.max()\n",
        "}).transpose()\n",
        "\n",
        "# If you want to preserve the original column order\n",
        "min_max_df = min_max_df[data.columns]\n",
        "# print(min_max_df)\n",
        "\n",
        "flag = np.random.randint(0, 2, size=data.shape[0])"
      ],
      "metadata": {
        "id": "dLMpS0PD8_1R"
      },
      "execution_count": null,
      "outputs": []
    },
    {
      "cell_type": "code",
      "source": [
        "encoded_data_train, remaining_data_test, flag_train, remaining_flag_test = train_test_split(\n",
        "    data, flag, train_size=0.7, random_state=42)"
      ],
      "metadata": {
        "id": "q2ZI6ATo9BoP"
      },
      "execution_count": null,
      "outputs": []
    },
    {
      "cell_type": "code",
      "source": [
        "encoded_data_test, encoded_data_val, flag_test, flag_val = train_test_split(\n",
        "    remaining_data_test, remaining_flag_test, test_size=0.5, random_state=42)"
      ],
      "metadata": {
        "id": "PbjSz2GN9TRW"
      },
      "execution_count": null,
      "outputs": []
    },
    {
      "cell_type": "code",
      "source": [
        "encoded_data_train = torch.tensor(encoded_data_train.values, dtype=torch.long)\n",
        "flag_train = torch.tensor(flag_train, dtype=torch.long)"
      ],
      "metadata": {
        "id": "vuEdmH8m9aEI"
      },
      "execution_count": null,
      "outputs": []
    },
    {
      "cell_type": "code",
      "source": [
        "encoded_data_test = torch.tensor(encoded_data_test.values, dtype=torch.long)\n",
        "flag_test = torch.tensor(flag_test, dtype=torch.long)"
      ],
      "metadata": {
        "id": "KA9DURTZ_13j"
      },
      "execution_count": null,
      "outputs": []
    },
    {
      "cell_type": "code",
      "source": [
        "encoded_data_val = torch.tensor(encoded_data_val.values, dtype=torch.long)\n",
        "flag_val = torch.tensor(flag_val, dtype=torch.long)"
      ],
      "metadata": {
        "id": "X-ttHA3F_5r0"
      },
      "execution_count": null,
      "outputs": []
    },
    {
      "cell_type": "code",
      "source": [
        "src_vocab_size = scaler_number + 1\n",
        "tgt_vocab_size = 2\n",
        "d_model = 128\n",
        "num_heads = 1\n",
        "num_layers = 2\n",
        "d_ff = 32\n",
        "max_seq_length = 48\n",
        "dropout = 0.1\n",
        "epoch_num = 30\n",
        "\n",
        "transformer = Transformer(src_vocab_size, tgt_vocab_size, d_model, num_heads, num_layers, d_ff, max_seq_length, dropout)\n",
        "criterion = nn.BCEWithLogitsLoss()\n",
        "optimizer = torch.optim.Adam(transformer.parameters(), lr=0.0001, betas=(0.9, 0.98), eps=1e-9)\n",
        "\n",
        "train_losses = []\n",
        "val_losses = []\n",
        "test_losses = []"
      ],
      "metadata": {
        "id": "LIy7yisl_9Hk"
      },
      "execution_count": null,
      "outputs": []
    },
    {
      "cell_type": "code",
      "source": [
        "transformer.train()\n",
        "for epoch in range(epoch_num):\n",
        "    optimizer.zero_grad()\n",
        "    output = transformer(encoded_data_train, flag_train.unsqueeze(1))\n",
        "    flag_train_dim = torch.cat((1 - flag_train.view(-1, 1), flag_train.view(-1, 1)), dim=1)\n",
        "    loss = criterion(output.contiguous().view(-1, tgt_vocab_size), flag_train_dim.float())\n",
        "    loss.backward()\n",
        "    optimizer.step()\n",
        "    train_losses.append(loss.item())\n",
        "    print(f\"Epoch: {epoch + 1}, Loss: {loss.item()}\")\n",
        "\n",
        "    if (epoch + 1) % 10 == 0:\n",
        "        transformer.eval()\n",
        "        with torch.no_grad():\n",
        "            val_output = transformer(encoded_data_val, flag_val.unsqueeze(1))\n",
        "            val_flag_dim = torch.cat((1 - flag_val.view(-1, 1), flag_val.view(-1, 1)), dim=1)\n",
        "            val_loss = criterion(val_output.contiguous().view(-1, tgt_vocab_size), val_flag_dim.float())\n",
        "            val_losses.append(val_loss.item())\n",
        "            print(f\"Validation Loss: {val_loss.item()}\")\n",
        "\n",
        "        transformer.train()\n",
        "\n",
        "transformer.eval()\n",
        "with torch.no_grad():\n",
        "    test_output = transformer(encoded_data_test, flag_test.unsqueeze(1))\n",
        "    test_flag_dim = torch.cat((1 - flag_test.view(-1, 1), flag_test.view(-1, 1)), dim=1)\n",
        "    test_loss = criterion(test_output.contiguous().view(-1, tgt_vocab_size), test_flag_dim.float())\n",
        "    test_losses.append(test_loss.item())\n",
        "    print(f\"Testing Loss: {test_loss.item()}\")\n"
      ],
      "metadata": {
        "colab": {
          "base_uri": "https://localhost:8080/"
        },
        "id": "warCTpmcABSQ",
        "outputId": "159c252b-9392-48c3-bfd0-d4b15693a876"
      },
      "execution_count": null,
      "outputs": [
        {
          "output_type": "stream",
          "name": "stdout",
          "text": [
            "Epoch: 1, Loss: 0.366619348526001\n",
            "Epoch: 2, Loss: 0.34632036089897156\n",
            "Epoch: 3, Loss: 0.3257986307144165\n",
            "Epoch: 4, Loss: 0.3073262572288513\n",
            "Epoch: 5, Loss: 0.28906959295272827\n",
            "Epoch: 6, Loss: 0.2708827555179596\n",
            "Epoch: 7, Loss: 0.2548356056213379\n",
            "Epoch: 8, Loss: 0.23858855664730072\n",
            "Epoch: 9, Loss: 0.22313493490219116\n",
            "Epoch: 10, Loss: 0.20874959230422974\n",
            "Validation Loss: 0.16361702978610992\n",
            "Epoch: 11, Loss: 0.1947011798620224\n",
            "Epoch: 12, Loss: 0.1819661408662796\n",
            "Epoch: 13, Loss: 0.16944660246372223\n",
            "Epoch: 14, Loss: 0.15835291147232056\n",
            "Epoch: 15, Loss: 0.14826032519340515\n",
            "Epoch: 16, Loss: 0.13787798583507538\n",
            "Epoch: 17, Loss: 0.12848669290542603\n",
            "Epoch: 18, Loss: 0.11995093524456024\n",
            "Epoch: 19, Loss: 0.11181794852018356\n",
            "Epoch: 20, Loss: 0.10439383238554001\n",
            "Validation Loss: 0.07461021095514297\n",
            "Epoch: 21, Loss: 0.09754619002342224\n",
            "Epoch: 22, Loss: 0.09108036011457443\n",
            "Epoch: 23, Loss: 0.08532501757144928\n",
            "Epoch: 24, Loss: 0.07954958081245422\n",
            "Epoch: 25, Loss: 0.07452034950256348\n",
            "Epoch: 26, Loss: 0.0701398029923439\n",
            "Epoch: 27, Loss: 0.06553328037261963\n",
            "Epoch: 28, Loss: 0.06156620383262634\n",
            "Epoch: 29, Loss: 0.05779445171356201\n",
            "Epoch: 30, Loss: 0.054579563438892365\n",
            "Validation Loss: 0.03696965053677559\n",
            "Testing Loss: 0.0370279923081398\n"
          ]
        }
      ]
    },
    {
      "cell_type": "markdown",
      "source": [
        "## Innovation"
      ],
      "metadata": {
        "id": "L7MZVsK9OWqh"
      }
    },
    {
      "cell_type": "markdown",
      "source": [
        "Analyze the model’s performance using appropriate metrics (e.g., accuracy, precision, recall)."
      ],
      "metadata": {
        "id": "o35v_newOgN1"
      }
    },
    {
      "cell_type": "code",
      "source": [
        "#evaluation of the model's performance on the testing data\n",
        "# set the model to evaluation mode to disable dropout and other training-specific layers\n",
        "transformer.eval()\n",
        "with torch.no_grad():\n",
        "    test_output = transformer(encoded_data_test, flag_test.unsqueeze(1))\n",
        "    test_flag_dim = torch.cat((1 - flag_test.view(-1, 1), flag_test.view(-1, 1)), dim=1)\n",
        "    test_loss = criterion(test_output.contiguous().view(-1, tgt_vocab_size), test_flag_dim.float())\n",
        "    test_losses.append(test_loss.item())\n",
        "    print(f\"Testing Loss: {test_loss.item()}\")\n",
        "\n",
        "    # Convert output to probabilities and get predictions\n",
        "    test_probs = torch.sigmoid(test_output) #converts logits output by model into probabilities\n",
        "    test_preds = torch.argmax(test_probs, dim=-1).squeeze() #get the predicted class by finding the index with the maximum probability\n",
        "\n",
        "    # Calculate metrics using sklearn.metrics\n",
        "    accuracy = metrics.accuracy_score(flag_test, test_preds)\n",
        "    precision = metrics.precision_score(flag_test, test_preds)\n",
        "    recall = metrics.recall_score(flag_test, test_preds)\n",
        "    f1_score = metrics.f1_score(flag_test, test_preds) #useful for imbalanced datasets\n",
        "    # harmonic mean of precision and recall (1=best, 0=worst)\n",
        "    conf_matrix = confusion_matrix(flag_test, test_preds)\n",
        "\n",
        "    print(f\"Accuracy: {accuracy}\")\n",
        "    print(f\"Precision: {precision}\")\n",
        "    print(f\"Recall: {recall}\")\n",
        "    print(f\"F1 Score: {f1_score}\")\n",
        "    print(f\"Confusion Matrix:\\n{conf_matrix}\")\n",
        "\n",
        "    # Visualize the results by plotting heatmap\n",
        "    plt.figure(figsize=(10, 7))\n",
        "    sns.heatmap(conf_matrix, annot=True, fmt=\"d\", cmap=\"Blues\", xticklabels=[0, 1], yticklabels=[0, 1])\n",
        "    plt.xlabel('Predicted')\n",
        "    plt.ylabel('True')\n",
        "    plt.title('Confusion Matrix')\n",
        "    plt.show()\n"
      ],
      "metadata": {
        "id": "j9EYqsmOOZxk",
        "colab": {
          "base_uri": "https://localhost:8080/",
          "height": 777
        },
        "outputId": "8778c976-72ae-4aaf-eb8b-447e51400b50"
      },
      "execution_count": 47,
      "outputs": [
        {
          "output_type": "stream",
          "name": "stdout",
          "text": [
            "Testing Loss: 0.0370279923081398\n",
            "Accuracy: 1.0\n",
            "Precision: 1.0\n",
            "Recall: 1.0\n",
            "F1 Score: 1.0\n",
            "Confusion Matrix:\n",
            "[[1056    0]\n",
            " [   0 1045]]\n"
          ]
        },
        {
          "output_type": "display_data",
          "data": {
            "text/plain": [
              "<Figure size 1000x700 with 2 Axes>"
            ],
            "image/png": "[encoded data removed]"
          },
          "metadata": {}
        }
      ]
    },
    {
      "cell_type": "code",
      "source": [
        "import numpy as np\n",
        "import matplotlib.pyplot as plt\n",
        "\n",
        "# Assuming train_losses and val_losses are being recorded correctly\n",
        "# Plot loss as a function of epoch\n",
        "epoch_range = np.arange(1, epoch_num + 1)  # Create a range for the number of epochs\n",
        "\n",
        "# Ensure train_losses and val_losses have the correct lengths\n",
        "train_losses = train_losses[:epoch_num]\n",
        "val_losses_epochs = list(range(10, epoch_num + 1, 10))  # Validation losses were logged every 10 epochs\n",
        "val_losses = val_losses[:len(val_losses_epochs)]\n",
        "\n",
        "# Plotting training and validation losses\n",
        "plt.plot(epoch_range, train_losses, label='Training Loss')\n",
        "plt.plot(val_losses_epochs, val_losses, label='Validation Loss')\n",
        "\n",
        "plt.legend()\n",
        "plt.xlabel('Epoch No.')\n",
        "plt.ylabel('Loss')\n",
        "plt.title('Training and Validation Loss Over Epochs')\n",
        "plt.show()"
      ],
      "metadata": {
        "colab": {
          "base_uri": "https://localhost:8080/",
          "height": 472
        },
        "id": "7iYfFTX4SPcN",
        "outputId": "253bfd7a-d936-48ca-c6d9-0bc019a7e864"
      },
      "execution_count": 53,
      "outputs": [
        {
          "output_type": "display_data",
          "data": {
            "text/plain": [
              "<Figure size 640x480 with 1 Axes>"
            ],
            "image/png": "[encoded data removed]"
          },
          "metadata": {}
        }
      ]
    }
  ]
}